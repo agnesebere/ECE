{
 "cells": [
  {
   "cell_type": "markdown",
   "id": "692e03b4-634b-4e58-8370-21d68d68a30a",
   "metadata": {},
   "source": [
    "# Project Title: Research Paper Metadata Extractor"
   ]
  },
  {
   "cell_type": "code",
   "execution_count": null,
   "id": "239ca652-0eda-4b1e-af14-8cc713e8628a",
   "metadata": {},
   "outputs": [],
   "source": []
  },
  {
   "cell_type": "code",
   "execution_count": 1,
   "id": "c1621b8a-58a6-4e10-93f5-c68b580aa5c9",
   "metadata": {},
   "outputs": [],
   "source": [
    "import fitz  # PyMuPDF\n",
    "import pandas as pd\n",
    "import os\n",
    "import json\n",
    "from langchain.document_loaders import PyMuPDFLoader\n",
    "from langchain.chains import LLMChain\n",
    "from langchain.prompts import PromptTemplate\n",
    "from langchain_community.chat_models import ChatOpenAI\n",
    "from dotenv import load_dotenv"
   ]
  },
  {
   "cell_type": "code",
   "execution_count": 2,
   "id": "8aab21b4-8a8d-4111-ad7e-d24231c1cb49",
   "metadata": {},
   "outputs": [],
   "source": [
    "# Load environment variables\n",
    "load_dotenv()\n",
    "OPENAI_API_KEY = os.getenv(\"OPENAI_API_KEY\")"
   ]
  },
  {
   "cell_type": "code",
   "execution_count": 4,
   "id": "32a12ea8-352e-4d3b-9f8c-261ec8f44781",
   "metadata": {},
   "outputs": [],
   "source": [
    "# If API Key is not found, prompt the user to enter it\n",
    "if not OPENAI_API_KEY:\n",
    "    OPENAI_API_KEY = input(\"Enter your OpenAI API Key: \")"
   ]
  },
  {
   "cell_type": "code",
   "execution_count": 6,
   "id": "68ce4669-6ede-43a4-a347-2f713de5a20e",
   "metadata": {},
   "outputs": [
    {
     "name": "stderr",
     "output_type": "stream",
     "text": [
      "/tmp/ipykernel_3657/3095679613.py:2: LangChainDeprecationWarning: The class `ChatOpenAI` was deprecated in LangChain 0.0.10 and will be removed in 1.0. An updated version of the class exists in the :class:`~langchain-openai package and should be used instead. To use it run `pip install -U :class:`~langchain-openai` and import as `from :class:`~langchain_openai import ChatOpenAI``.\n",
      "  llm = ChatOpenAI(model_name=\"gpt-4\", openai_api_key=OPENAI_API_KEY)\n"
     ]
    }
   ],
   "source": [
    "# Initialize OpenAI model using ChatOpenAI\n",
    "llm = ChatOpenAI(model_name=\"gpt-4\", openai_api_key=OPENAI_API_KEY)\n"
   ]
  },
  {
   "cell_type": "code",
   "execution_count": 7,
   "id": "ecab2fd7-5262-4d1b-b8a6-6ea8511dc2a2",
   "metadata": {},
   "outputs": [
    {
     "name": "stderr",
     "output_type": "stream",
     "text": [
      "/tmp/ipykernel_3657/3216408872.py:29: LangChainDeprecationWarning: The class `LLMChain` was deprecated in LangChain 0.1.17 and will be removed in 1.0. Use :meth:`~RunnableSequence, e.g., `prompt | llm`` instead.\n",
      "  metadata_extraction_chain = LLMChain(llm=llm, prompt=template)\n"
     ]
    }
   ],
   "source": [
    "# Define metadata extraction prompt\n",
    "template = PromptTemplate(\n",
    "    input_variables=[\"text\"],\n",
    "    template=\"\"\"\n",
    "    Extract the following metadata from the given research paper text:\n",
    "    - Title\n",
    "    - Authors\n",
    "    - Publication Year\n",
    "    - Abstract\n",
    "    - Keywords\n",
    "    \n",
    "    Given Text:\n",
    "    {text}\n",
    "    \n",
    "    Provide the extracted details strictly in **valid JSON** format like this:\n",
    "    ```json\n",
    "    {{\n",
    "        \"Title\": \"Extracted Title\",\n",
    "        \"Authors\": \"Extracted Authors\",\n",
    "        \"Publication Year\": \"Extracted Year\",\n",
    "        \"Abstract\": \"Extracted Abstract\",\n",
    "        \"Keywords\": \"Extracted Keywords\"\n",
    "    }}\n",
    "    ```\n",
    "    Ensure the output follows **valid JSON syntax**, enclosed in `{}`.\n",
    "    \"\"\"\n",
    ")\n",
    "\n",
    "metadata_extraction_chain = LLMChain(llm=llm, prompt=template)\n",
    "\n",
    "def extract_metadata_from_pdf(pdf_path):\n",
    "    \"\"\"Extract metadata from PDF using LangChain.\"\"\"\n",
    "    try:\n",
    "        loader = PyMuPDFLoader(pdf_path)\n",
    "        documents = loader.load()\n",
    "        full_text = \"\\n\".join([doc.page_content.strip() for doc in documents if doc.page_content.strip()])\n",
    "        \n",
    "        # Check if any text was extracted\n",
    "        if not full_text.strip():\n",
    "            print(\"Error: No text extracted from the PDF. Ensure the PDF contains text.\")\n",
    "            return {}\n",
    "        \n",
    "        # Log the input to the chain for debugging\n",
    "        print(f\"Input to chain: {full_text[:500]}...\")  # Print the first 500 characters\n",
    "        \n",
    "        # Invoke the chain\n",
    "        response = metadata_extraction_chain.invoke({\"text\": full_text})\n",
    "        \n",
    "        # Check if the response is empty or malformed\n",
    "        if not response or \"text\" not in response:\n",
    "            print(\"Error: Received empty or malformed response from OpenAI.\")\n",
    "            return {}\n",
    "        \n",
    "        # Parse the JSON output\n",
    "        try:\n",
    "            metadata = json.loads(response[\"text\"]) if \"text\" in response else json.loads(response)\n",
    "        except json.JSONDecodeError as e:\n",
    "            print(f\"Error: Received malformed JSON response from OpenAI: {e}\")\n",
    "            return {}\n",
    "        \n",
    "        return metadata\n",
    "    except Exception as e:\n",
    "        print(f\"Error extracting metadata: {e}\")\n",
    "        return {}\n"
   ]
  },
  {
   "cell_type": "code",
   "execution_count": 8,
   "id": "f2b9cfff-c2a4-45d4-a91e-20822c6072f6",
   "metadata": {},
   "outputs": [],
   "source": [
    "# Specify the PDF file path\n",
    "pdf_path = r\"AI-based approach for improving the detection of.pdf\"\n"
   ]
  },
  {
   "cell_type": "code",
   "execution_count": 9,
   "id": "e6037281-a05a-4434-a6bb-70453941cf48",
   "metadata": {},
   "outputs": [
    {
     "name": "stdout",
     "output_type": "stream",
     "text": [
      "Input to chain: AI-based approach for improving the detection of\n",
      "blood doping in sports\n",
      "Maxx Richard Rahman\n",
      "Saarland University\n",
      "Germany\n",
      "Jacob Bejder\n",
      "University of Copenhagen\n",
      "Denmark\n",
      "Thomas Christian Bonne\n",
      "University of Copenhagen\n",
      "Denmark\n",
      "Andreas Breenfeldt Andersen\n",
      "University of Copenhagen\n",
      "Denmark\n",
      "Jes´us Rodr´ıguez Huertas\n",
      "University of Granada\n",
      "Spain\n",
      "Reid Aikin\n",
      "World Anti-Doping Agency\n",
      "Canada\n",
      "Nikolai Baastrup Nordsborg\n",
      "University of Copenhagen\n",
      "Denmark\n",
      "Wolfgang Maaß\n",
      "Saarland University\n",
      "Germany\n",
      "Abstract—Sports of...\n",
      "Error extracting metadata: Missing some input keys: {''}\n",
      "No metadata extracted.\n"
     ]
    }
   ],
   "source": [
    "# Check if the file exists and extract metadata\n",
    "if os.path.exists(pdf_path):\n",
    "    metadata = extract_metadata_from_pdf(pdf_path)\n",
    "    \n",
    "    # Convert metadata to DataFrame\n",
    "    if metadata:\n",
    "        df = pd.DataFrame([metadata])\n",
    "        print(\"Extracted Metadata:\")\n",
    "        print(df)\n",
    "        \n",
    "        # Save metadata to CSV\n",
    "        df.to_csv(\"metadata.csv\", index=False)\n",
    "        print(\"Metadata saved to metadata.csv\")\n",
    "    else:\n",
    "        print(\"No metadata extracted.\")\n",
    "else:\n",
    "    print(\"PDF file not found. Please check the file path.\")"
   ]
  },
  {
   "cell_type": "code",
   "execution_count": null,
   "id": "3d5d9429-2b32-4e4e-be3c-1a9b7a1af4ee",
   "metadata": {},
   "outputs": [],
   "source": []
  }
 ],
 "metadata": {
  "kernelspec": {
   "display_name": "Python 3 (ipykernel)",
   "language": "python",
   "name": "python3"
  },
  "language_info": {
   "codemirror_mode": {
    "name": "ipython",
    "version": 3
   },
   "file_extension": ".py",
   "mimetype": "text/x-python",
   "name": "python",
   "nbconvert_exporter": "python",
   "pygments_lexer": "ipython3",
   "version": "3.12.1"
  }
 },
 "nbformat": 4,
 "nbformat_minor": 5
}
