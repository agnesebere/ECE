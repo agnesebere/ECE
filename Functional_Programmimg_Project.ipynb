{
 "cells": [
  {
   "cell_type": "code",
   "execution_count": null,
   "id": "fd8f7f1b-95e0-4ee4-879d-841db7cb61fe",
   "metadata": {},
   "outputs": [],
   "source": [
    "# Training a Neural Network with JAX and Optax"
   ]
  },
  {
   "cell_type": "code",
   "execution_count": 1,
   "id": "267b18fb-cb03-4915-ab22-d740fac757fe",
   "metadata": {},
   "outputs": [],
   "source": [
    "import jax\n",
    "import jax.numpy as jnp\n",
    "import optax\n",
    "import numpy as np\n",
    "import matplotlib.pyplot as plt\n",
    "import pickle\n",
    "from tqdm import tqdm\n",
    "from torchvision import datasets, transforms"
   ]
  },
  {
   "cell_type": "markdown",
   "id": "7099e1d2-3363-4d01-805c-40f020805964",
   "metadata": {},
   "source": [
    "##  Data Preparation"
   ]
  },
  {
   "cell_type": "code",
   "execution_count": 2,
   "id": "edf9f2d3-6c5d-4b39-83e3-faf519df9f6e",
   "metadata": {},
   "outputs": [
    {
     "name": "stderr",
     "output_type": "stream",
     "text": [
      "100%|██████████| 9.91M/9.91M [00:00<00:00, 13.7MB/s]\n",
      "100%|██████████| 28.9k/28.9k [00:00<00:00, 364kB/s]\n",
      "100%|██████████| 1.65M/1.65M [00:00<00:00, 3.41MB/s]\n",
      "100%|██████████| 4.54k/4.54k [00:00<00:00, 10.0MB/s]\n"
     ]
    }
   ],
   "source": [
    "def load_mnist():\n",
    "    transform = transforms.Compose([transforms.ToTensor(), lambda x: jnp.array(x.numpy().flatten(), dtype=jnp.float32)])\n",
    "    \n",
    "    train_dataset = datasets.MNIST(root='./data', train=True, transform=transform, download=True)\n",
    "    test_dataset = datasets.MNIST(root='./data', train=False, transform=transform, download=True)\n",
    "\n",
    "    x_train = jnp.array([x for x, _ in train_dataset])\n",
    "    y_train = jnp.array([y for _, y in train_dataset])\n",
    "    x_test = jnp.array([x for x, _ in test_dataset])\n",
    "    y_test = jnp.array([y for _, y in test_dataset])\n",
    "\n",
    "    return (x_train, y_train), (x_test, y_test)\n",
    "\n",
    "(x_train, y_train), (x_test, y_test) = load_mnist()"
   ]
  },
  {
   "cell_type": "markdown",
   "id": "d2206f07-7e0e-4d16-86d2-b4b7fc3edf5c",
   "metadata": {},
   "source": [
    "## Basis Functions for Function Approximation"
   ]
  },
  {
   "cell_type": "code",
   "execution_count": 3,
   "id": "2307f8b2-5517-49e0-ae66-96991b015325",
   "metadata": {},
   "outputs": [],
   "source": [
    "def polynomial_basis(x, degree=3):\n",
    "    return jnp.array([x**i for i in range(1, degree+1)]).T\n",
    "\n",
    "def gaussian_basis(x, centers, sigma=1.0):\n",
    "    return jnp.exp(-((x - centers) ** 2) / (2 * sigma**2))"
   ]
  },
  {
   "cell_type": "markdown",
   "id": "09df0611-0b36-4874-a6d4-e924a8912965",
   "metadata": {},
   "source": [
    "## Model Implementation"
   ]
  },
  {
   "cell_type": "code",
   "execution_count": 4,
   "id": "adb230f4-981b-4d09-a2e5-8fd14220f5cf",
   "metadata": {},
   "outputs": [],
   "source": [
    "def init_mlp(layers):\n",
    "    key = jax.random.PRNGKey(0)\n",
    "    params = []\n",
    "    for in_dim, out_dim in zip(layers[:-1], layers[1:]):\n",
    "        key, subkey1, subkey2 = jax.random.split(key, 3)\n",
    "        W = jax.random.normal(subkey1, (out_dim, in_dim)) * 0.01\n",
    "        b = jax.random.normal(subkey2, (out_dim,)) * 0.01\n",
    "        params.append((W, b))\n",
    "    return params\n",
    "\n",
    "def mlp_predict(params, x):\n",
    "    for W, b in params[:-1]:\n",
    "        x = jnp.tanh(jnp.dot(W, x) + b)\n",
    "    W, b = params[-1]\n",
    "    return jnp.dot(W, x) + b  # Output logits"
   ]
  },
  {
   "cell_type": "markdown",
   "id": "fbdb6063-5993-4e9e-85e1-0d8d0762efc9",
   "metadata": {},
   "source": [
    "##  Loss Function"
   ]
  },
  {
   "cell_type": "code",
   "execution_count": 5,
   "id": "1323d4bc-a8bb-44fe-b36d-fa471f39acd2",
   "metadata": {},
   "outputs": [],
   "source": [
    "def loss_function(params, x, y):\n",
    "    y_pred = jax.vmap(mlp_predict, in_axes=(None, 0))(params, x)\n",
    "    return jnp.mean(optax.softmax_cross_entropy_with_integer_labels(y_pred, y))"
   ]
  },
  {
   "cell_type": "markdown",
   "id": "8cae55a4-eacc-4d69-827d-0419dcf643bf",
   "metadata": {},
   "source": [
    "## Optimization with Optax"
   ]
  },
  {
   "cell_type": "code",
   "execution_count": 6,
   "id": "332fe423-9abd-4729-b112-b0d5a9f4c621",
   "metadata": {},
   "outputs": [],
   "source": [
    "optimizers = {\n",
    "    \"sgd\": optax.sgd(learning_rate=0.01),\n",
    "    \"adam\": optax.adam(learning_rate=0.01),\n",
    "    \"rmsprop\": optax.rmsprop(learning_rate=0.01)\n",
    "}\n",
    "\n",
    "def train(model_params, optimizer_name, epochs=10, batch_size=128):\n",
    "    opt_init, opt_update = optimizers[optimizer_name]\n",
    "    opt_state = opt_init(model_params)\n",
    "\n",
    "    loss_history = []\n",
    "    for epoch in range(epochs):\n",
    "        batch_losses = []\n",
    "        for i in tqdm(range(0, len(x_train), batch_size), desc=f\"Epoch {epoch+1}/{epochs}\"):\n",
    "            x_batch = x_train[i:i+batch_size]\n",
    "            y_batch = y_train[i:i+batch_size]\n",
    "\n",
    "            grads = jax.grad(loss_function)(model_params, x_batch, y_batch)\n",
    "            updates, opt_state = opt_update(grads, opt_state, model_params)\n",
    "            model_params = optax.apply_updates(model_params, updates)\n",
    "\n",
    "            batch_losses.append(loss_function(model_params, x_batch, y_batch))\n",
    "        \n",
    "        epoch_loss = jnp.mean(jnp.array(batch_losses))\n",
    "        loss_history.append(epoch_loss)\n",
    "        print(f\"Epoch {epoch+1}, Loss: {epoch_loss:.4f}\")\n",
    "    \n",
    "    return loss_history, model_params"
   ]
  },
  {
   "cell_type": "markdown",
   "id": "b72ac43a-a52c-46a9-ae8a-460818b1b33b",
   "metadata": {},
   "source": [
    "## Compare Optimizer Performance\n"
   ]
  },
  {
   "cell_type": "code",
   "execution_count": 7,
   "id": "c0859830-c02f-4e3a-b426-13ef283dfe4b",
   "metadata": {},
   "outputs": [],
   "source": [
    "def plot_optimizer_performance(histories):\n",
    "    for optimizer, losses in histories.items():\n",
    "        plt.plot(losses, label=optimizer)\n",
    "    plt.xlabel('Epoch')\n",
    "    plt.ylabel('Loss')\n",
    "    plt.legend()\n",
    "    plt.title('Comparison of Optimizer Performance')\n",
    "    plt.show()"
   ]
  },
  {
   "cell_type": "markdown",
   "id": "14b0116b-3b7c-429e-8355-b8919ee15a5e",
   "metadata": {},
   "source": [
    "## Training and Evaluation"
   ]
  },
  {
   "cell_type": "code",
   "execution_count": 8,
   "id": "1bcec535-1dbe-4282-b12b-c6fd1e6a4627",
   "metadata": {},
   "outputs": [
    {
     "name": "stdout",
     "output_type": "stream",
     "text": [
      "Training with sgd optimizer...\n"
     ]
    },
    {
     "name": "stderr",
     "output_type": "stream",
     "text": [
      "Epoch 1/10: 100%|██████████| 469/469 [00:09<00:00, 47.88it/s]\n"
     ]
    },
    {
     "name": "stdout",
     "output_type": "stream",
     "text": [
      "Epoch 1, Loss: 2.3013\n"
     ]
    },
    {
     "name": "stderr",
     "output_type": "stream",
     "text": [
      "Epoch 2/10: 100%|██████████| 469/469 [00:07<00:00, 64.72it/s]\n"
     ]
    },
    {
     "name": "stdout",
     "output_type": "stream",
     "text": [
      "Epoch 2, Loss: 2.2988\n"
     ]
    },
    {
     "name": "stderr",
     "output_type": "stream",
     "text": [
      "Epoch 3/10: 100%|██████████| 469/469 [00:07<00:00, 64.67it/s]\n"
     ]
    },
    {
     "name": "stdout",
     "output_type": "stream",
     "text": [
      "Epoch 3, Loss: 2.2932\n"
     ]
    },
    {
     "name": "stderr",
     "output_type": "stream",
     "text": [
      "Epoch 4/10: 100%|██████████| 469/469 [00:07<00:00, 65.80it/s]\n"
     ]
    },
    {
     "name": "stdout",
     "output_type": "stream",
     "text": [
      "Epoch 4, Loss: 2.2558\n"
     ]
    },
    {
     "name": "stderr",
     "output_type": "stream",
     "text": [
      "Epoch 5/10: 100%|██████████| 469/469 [00:07<00:00, 65.90it/s]\n"
     ]
    },
    {
     "name": "stdout",
     "output_type": "stream",
     "text": [
      "Epoch 5, Loss: 1.9304\n"
     ]
    },
    {
     "name": "stderr",
     "output_type": "stream",
     "text": [
      "Epoch 6/10: 100%|██████████| 469/469 [00:07<00:00, 66.20it/s]\n"
     ]
    },
    {
     "name": "stdout",
     "output_type": "stream",
     "text": [
      "Epoch 6, Loss: 1.4454\n"
     ]
    },
    {
     "name": "stderr",
     "output_type": "stream",
     "text": [
      "Epoch 7/10: 100%|██████████| 469/469 [00:07<00:00, 64.93it/s]\n"
     ]
    },
    {
     "name": "stdout",
     "output_type": "stream",
     "text": [
      "Epoch 7, Loss: 1.1188\n"
     ]
    },
    {
     "name": "stderr",
     "output_type": "stream",
     "text": [
      "Epoch 8/10: 100%|██████████| 469/469 [00:07<00:00, 65.10it/s]\n"
     ]
    },
    {
     "name": "stdout",
     "output_type": "stream",
     "text": [
      "Epoch 8, Loss: 0.8967\n"
     ]
    },
    {
     "name": "stderr",
     "output_type": "stream",
     "text": [
      "Epoch 9/10: 100%|██████████| 469/469 [00:07<00:00, 65.36it/s]\n"
     ]
    },
    {
     "name": "stdout",
     "output_type": "stream",
     "text": [
      "Epoch 9, Loss: 0.7626\n"
     ]
    },
    {
     "name": "stderr",
     "output_type": "stream",
     "text": [
      "Epoch 10/10: 100%|██████████| 469/469 [00:07<00:00, 64.20it/s]\n"
     ]
    },
    {
     "name": "stdout",
     "output_type": "stream",
     "text": [
      "Epoch 10, Loss: 0.6632\n",
      "Training with adam optimizer...\n"
     ]
    },
    {
     "name": "stderr",
     "output_type": "stream",
     "text": [
      "Epoch 1/10: 100%|██████████| 469/469 [00:09<00:00, 49.08it/s]\n"
     ]
    },
    {
     "name": "stdout",
     "output_type": "stream",
     "text": [
      "Epoch 1, Loss: 0.2535\n"
     ]
    },
    {
     "name": "stderr",
     "output_type": "stream",
     "text": [
      "Epoch 2/10: 100%|██████████| 469/469 [00:08<00:00, 53.17it/s]\n"
     ]
    },
    {
     "name": "stdout",
     "output_type": "stream",
     "text": [
      "Epoch 2, Loss: 0.1261\n"
     ]
    },
    {
     "name": "stderr",
     "output_type": "stream",
     "text": [
      "Epoch 3/10: 100%|██████████| 469/469 [00:08<00:00, 52.61it/s]\n"
     ]
    },
    {
     "name": "stdout",
     "output_type": "stream",
     "text": [
      "Epoch 3, Loss: 0.1046\n"
     ]
    },
    {
     "name": "stderr",
     "output_type": "stream",
     "text": [
      "Epoch 4/10: 100%|██████████| 469/469 [00:08<00:00, 53.11it/s]\n"
     ]
    },
    {
     "name": "stdout",
     "output_type": "stream",
     "text": [
      "Epoch 4, Loss: 0.0979\n"
     ]
    },
    {
     "name": "stderr",
     "output_type": "stream",
     "text": [
      "Epoch 5/10: 100%|██████████| 469/469 [00:08<00:00, 53.30it/s]\n"
     ]
    },
    {
     "name": "stdout",
     "output_type": "stream",
     "text": [
      "Epoch 5, Loss: 0.0922\n"
     ]
    },
    {
     "name": "stderr",
     "output_type": "stream",
     "text": [
      "Epoch 6/10: 100%|██████████| 469/469 [00:08<00:00, 52.75it/s]\n"
     ]
    },
    {
     "name": "stdout",
     "output_type": "stream",
     "text": [
      "Epoch 6, Loss: 0.0879\n"
     ]
    },
    {
     "name": "stderr",
     "output_type": "stream",
     "text": [
      "Epoch 7/10: 100%|██████████| 469/469 [00:09<00:00, 52.01it/s]\n"
     ]
    },
    {
     "name": "stdout",
     "output_type": "stream",
     "text": [
      "Epoch 7, Loss: 0.0840\n"
     ]
    },
    {
     "name": "stderr",
     "output_type": "stream",
     "text": [
      "Epoch 8/10: 100%|██████████| 469/469 [00:09<00:00, 51.94it/s]\n"
     ]
    },
    {
     "name": "stdout",
     "output_type": "stream",
     "text": [
      "Epoch 8, Loss: 0.0850\n"
     ]
    },
    {
     "name": "stderr",
     "output_type": "stream",
     "text": [
      "Epoch 9/10: 100%|██████████| 469/469 [00:08<00:00, 53.13it/s]\n"
     ]
    },
    {
     "name": "stdout",
     "output_type": "stream",
     "text": [
      "Epoch 9, Loss: 0.0805\n"
     ]
    },
    {
     "name": "stderr",
     "output_type": "stream",
     "text": [
      "Epoch 10/10: 100%|██████████| 469/469 [00:08<00:00, 53.21it/s]\n"
     ]
    },
    {
     "name": "stdout",
     "output_type": "stream",
     "text": [
      "Epoch 10, Loss: 0.0803\n",
      "Training with rmsprop optimizer...\n"
     ]
    },
    {
     "name": "stderr",
     "output_type": "stream",
     "text": [
      "Epoch 1/10: 100%|██████████| 469/469 [00:08<00:00, 57.21it/s]\n"
     ]
    },
    {
     "name": "stdout",
     "output_type": "stream",
     "text": [
      "Epoch 1, Loss: 0.2120\n"
     ]
    },
    {
     "name": "stderr",
     "output_type": "stream",
     "text": [
      "Epoch 2/10: 100%|██████████| 469/469 [00:07<00:00, 58.86it/s]\n"
     ]
    },
    {
     "name": "stdout",
     "output_type": "stream",
     "text": [
      "Epoch 2, Loss: 0.0439\n"
     ]
    },
    {
     "name": "stderr",
     "output_type": "stream",
     "text": [
      "Epoch 3/10: 100%|██████████| 469/469 [00:08<00:00, 57.94it/s]\n"
     ]
    },
    {
     "name": "stdout",
     "output_type": "stream",
     "text": [
      "Epoch 3, Loss: 0.0284\n"
     ]
    },
    {
     "name": "stderr",
     "output_type": "stream",
     "text": [
      "Epoch 4/10: 100%|██████████| 469/469 [00:08<00:00, 56.37it/s]\n"
     ]
    },
    {
     "name": "stdout",
     "output_type": "stream",
     "text": [
      "Epoch 4, Loss: 0.0236\n"
     ]
    },
    {
     "name": "stderr",
     "output_type": "stream",
     "text": [
      "Epoch 5/10: 100%|██████████| 469/469 [00:08<00:00, 58.26it/s]\n"
     ]
    },
    {
     "name": "stdout",
     "output_type": "stream",
     "text": [
      "Epoch 5, Loss: 0.0212\n"
     ]
    },
    {
     "name": "stderr",
     "output_type": "stream",
     "text": [
      "Epoch 6/10: 100%|██████████| 469/469 [00:08<00:00, 57.90it/s]\n"
     ]
    },
    {
     "name": "stdout",
     "output_type": "stream",
     "text": [
      "Epoch 6, Loss: 0.0192\n"
     ]
    },
    {
     "name": "stderr",
     "output_type": "stream",
     "text": [
      "Epoch 7/10: 100%|██████████| 469/469 [00:07<00:00, 59.29it/s]\n"
     ]
    },
    {
     "name": "stdout",
     "output_type": "stream",
     "text": [
      "Epoch 7, Loss: 0.0167\n"
     ]
    },
    {
     "name": "stderr",
     "output_type": "stream",
     "text": [
      "Epoch 8/10: 100%|██████████| 469/469 [00:07<00:00, 58.80it/s]\n"
     ]
    },
    {
     "name": "stdout",
     "output_type": "stream",
     "text": [
      "Epoch 8, Loss: 0.0152\n"
     ]
    },
    {
     "name": "stderr",
     "output_type": "stream",
     "text": [
      "Epoch 9/10: 100%|██████████| 469/469 [00:08<00:00, 58.35it/s]\n"
     ]
    },
    {
     "name": "stdout",
     "output_type": "stream",
     "text": [
      "Epoch 9, Loss: 0.0152\n"
     ]
    },
    {
     "name": "stderr",
     "output_type": "stream",
     "text": [
      "Epoch 10/10: 100%|██████████| 469/469 [00:08<00:00, 57.64it/s]\n"
     ]
    },
    {
     "name": "stdout",
     "output_type": "stream",
     "text": [
      "Epoch 10, Loss: 0.0144\n"
     ]
    },
    {
     "data": {
      "image/png": "[encoded data removed]",
      "text/plain": [
       "<Figure size 640x480 with 1 Axes>"
      ]
     },
     "metadata": {},
     "output_type": "display_data"
    }
   ],
   "source": [
    "layers = [784, 128, 64, 10]\n",
    "histories = {}\n",
    "saved_models = {}\n",
    "\n",
    "for optimizer_name in optimizers.keys():\n",
    "    print(f\"Training with {optimizer_name} optimizer...\")\n",
    "    model_params = init_mlp(layers)\n",
    "    histories[optimizer_name], trained_model = train(model_params, optimizer_name)\n",
    "    \n",
    "    # Save trained model\n",
    "    with open(f\"trained_model_{optimizer_name}.pkl\", \"wb\") as f:\n",
    "        pickle.dump(trained_model, f)\n",
    "    saved_models[optimizer_name] = trained_model\n",
    "\n",
    "plot_optimizer_performance(histories)"
   ]
  },
  {
   "cell_type": "markdown",
   "id": "672caff5-fec6-4c00-bedb-b1d563330e70",
   "metadata": {},
   "source": [
    "## Load and Test Saved Model\n"
   ]
  },
  {
   "cell_type": "code",
   "execution_count": 9,
   "id": "f4d8dd06-3711-4600-854c-38e38fe01193",
   "metadata": {},
   "outputs": [],
   "source": [
    "def load_model(optimizer_name):\n",
    "    with open(f\"trained_model_{optimizer_name}.pkl\", \"rb\") as f:\n",
    "        return pickle.load(f)"
   ]
  },
  {
   "cell_type": "code",
   "execution_count": 10,
   "id": "73ef446f-fde3-4bc0-910a-f486ac9c00e7",
   "metadata": {},
   "outputs": [
    {
     "name": "stdout",
     "output_type": "stream",
     "text": [
      "Predictions for first 10 test samples: [7 2 1 0 4 1 4 3 5 9]\n"
     ]
    }
   ],
   "source": [
    "# Example usage\n",
    "loaded_model = load_model(\"adam\")\n",
    "y_pred = jax.vmap(mlp_predict, in_axes=(None, 0))(loaded_model, x_test[:10])\n",
    "print(\"Predictions for first 10 test samples:\", jnp.argmax(y_pred, axis=1))"
   ]
  },
  {
   "cell_type": "code",
   "execution_count": null,
   "id": "db2d6b78-9996-4aff-b9a7-c9cd26f711d6",
   "metadata": {},
   "outputs": [],
   "source": []
  }
 ],
 "metadata": {
  "kernelspec": {
   "display_name": "Python 3 (ipykernel)",
   "language": "python",
   "name": "python3"
  },
  "language_info": {
   "codemirror_mode": {
    "name": "ipython",
    "version": 3
   },
   "file_extension": ".py",
   "mimetype": "text/x-python",
   "name": "python",
   "nbconvert_exporter": "python",
   "pygments_lexer": "ipython3",
   "version": "3.12.1"
  }
 },
 "nbformat": 4,
 "nbformat_minor": 5
}
